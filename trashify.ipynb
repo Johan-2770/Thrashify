{
 "cells": [
  {
   "cell_type": "code",
   "execution_count": 1,
   "metadata": {},
   "outputs": [
    {
     "name": "stdout",
     "output_type": "stream",
     "text": [
      "WARNING:tensorflow:From c:\\Users\\Adhi Pradityo\\AppData\\Local\\Programs\\Python\\Python311\\Lib\\site-packages\\keras\\src\\losses.py:2976: The name tf.losses.sparse_softmax_cross_entropy is deprecated. Please use tf.compat.v1.losses.sparse_softmax_cross_entropy instead.\n",
      "\n"
     ]
    }
   ],
   "source": [
    "import tensorflow as tf\n",
    "from tensorflow.keras.preprocessing.image import ImageDataGenerator\n",
    "from tensorflow.keras.models import Sequential\n",
    "from tensorflow.keras.layers import Conv2D, MaxPooling2D, Flatten, Dense, Dropout, BatchNormalization\n",
    "from tensorflow.keras.optimizers import Adam\n",
    "from tensorflow.keras.callbacks import ReduceLROnPlateau, EarlyStopping"
   ]
  },
  {
   "cell_type": "code",
   "execution_count": 2,
   "metadata": {},
   "outputs": [
    {
     "name": "stdout",
     "output_type": "stream",
     "text": [
      "Found 19764 images belonging to 2 classes.\n",
      "Found 4941 images belonging to 2 classes.\n"
     ]
    }
   ],
   "source": [
    "# Tentukan direktori dataset\n",
    "dataset_dir = './dataset'  # Sesuaikan path ini dengan path dataset Anda\n",
    "img_height, img_width = 150, 150\n",
    "batch_size = 32\n",
    "\n",
    "# Membuat ImageDataGenerator untuk augmentasi data\n",
    "datagen = ImageDataGenerator(\n",
    "    rescale=1.0/255,\n",
    "    rotation_range=20,\n",
    "    width_shift_range=0.2,\n",
    "    height_shift_range=0.2,\n",
    "    shear_range=0.2,\n",
    "    zoom_range=0.2,\n",
    "    horizontal_flip=True,\n",
    "    fill_mode='nearest',\n",
    "    validation_split=0.2\n",
    ")\n",
    "\n",
    "train_generator = datagen.flow_from_directory(\n",
    "    dataset_dir,\n",
    "    target_size=(img_height, img_width),\n",
    "    batch_size=batch_size,\n",
    "    class_mode='binary',\n",
    "    subset='training'\n",
    ")\n",
    "\n",
    "validation_generator = datagen.flow_from_directory(\n",
    "    dataset_dir,\n",
    "    target_size=(img_height, img_width),\n",
    "    batch_size=batch_size,\n",
    "    class_mode='binary',\n",
    "    subset='validation'\n",
    ")"
   ]
  },
  {
   "cell_type": "code",
   "execution_count": 3,
   "metadata": {},
   "outputs": [
    {
     "name": "stdout",
     "output_type": "stream",
     "text": [
      "WARNING:tensorflow:From c:\\Users\\Adhi Pradityo\\AppData\\Local\\Programs\\Python\\Python311\\Lib\\site-packages\\keras\\src\\backend.py:873: The name tf.get_default_graph is deprecated. Please use tf.compat.v1.get_default_graph instead.\n",
      "\n",
      "WARNING:tensorflow:From c:\\Users\\Adhi Pradityo\\AppData\\Local\\Programs\\Python\\Python311\\Lib\\site-packages\\keras\\src\\layers\\pooling\\max_pooling2d.py:161: The name tf.nn.max_pool is deprecated. Please use tf.nn.max_pool2d instead.\n",
      "\n"
     ]
    },
    {
     "name": "stderr",
     "output_type": "stream",
     "text": [
      "WARNING:absl:`lr` is deprecated in Keras optimizer, please use `learning_rate` or use the legacy optimizer, e.g.,tf.keras.optimizers.legacy.Adam.\n"
     ]
    }
   ],
   "source": [
    "# Membangun model CNN dengan lebih banyak lapisan dan regularisasi\n",
    "model = Sequential([\n",
    "    Conv2D(32, (3, 3), activation='relu', input_shape=(img_height, img_width, 3)),\n",
    "    BatchNormalization(),\n",
    "    MaxPooling2D(pool_size=(2, 2)),\n",
    "    \n",
    "    Conv2D(64, (3, 3), activation='relu'),\n",
    "    BatchNormalization(),\n",
    "    MaxPooling2D(pool_size=(2, 2)),\n",
    "    \n",
    "    Conv2D(128, (3, 3), activation='relu'),\n",
    "    BatchNormalization(),\n",
    "    MaxPooling2D(pool_size=(2, 2)),\n",
    "\n",
    "    Conv2D(256, (3, 3), activation='relu'),\n",
    "    BatchNormalization(),\n",
    "    MaxPooling2D(pool_size=(2, 2)),\n",
    "    \n",
    "    Flatten(),\n",
    "    Dense(512, activation='relu'),\n",
    "    Dropout(0.5),\n",
    "    Dense(1, activation='sigmoid')\n",
    "])\n",
    "\n",
    "# Kompilasi model dengan learning rate scheduler\n",
    "model.compile(optimizer=Adam(lr=1e-4), \n",
    "              loss='binary_crossentropy', \n",
    "              metrics=['accuracy'])\n",
    "\n",
    "# Callback untuk mengatur learning rate\n",
    "reduce_lr = ReduceLROnPlateau(monitor='val_loss', factor=0.2, patience=5, min_lr=1e-6)\n",
    "early_stop = EarlyStopping(monitor='val_loss', patience=10, restore_best_weights=True)"
   ]
  },
  {
   "cell_type": "code",
   "execution_count": 4,
   "metadata": {},
   "outputs": [
    {
     "name": "stdout",
     "output_type": "stream",
     "text": [
      "Epoch 1/50\n",
      "WARNING:tensorflow:From c:\\Users\\Adhi Pradityo\\AppData\\Local\\Programs\\Python\\Python311\\Lib\\site-packages\\keras\\src\\utils\\tf_utils.py:492: The name tf.ragged.RaggedTensorValue is deprecated. Please use tf.compat.v1.ragged.RaggedTensorValue instead.\n",
      "\n"
     ]
    },
    {
     "name": "stderr",
     "output_type": "stream",
     "text": [
      "WARNING:tensorflow:From c:\\Users\\Adhi Pradityo\\AppData\\Local\\Programs\\Python\\Python311\\Lib\\site-packages\\keras\\src\\utils\\tf_utils.py:492: The name tf.ragged.RaggedTensorValue is deprecated. Please use tf.compat.v1.ragged.RaggedTensorValue instead.\n",
      "\n"
     ]
    },
    {
     "name": "stdout",
     "output_type": "stream",
     "text": [
      "WARNING:tensorflow:From c:\\Users\\Adhi Pradityo\\AppData\\Local\\Programs\\Python\\Python311\\Lib\\site-packages\\keras\\src\\engine\\base_layer_utils.py:384: The name tf.executing_eagerly_outside_functions is deprecated. Please use tf.compat.v1.executing_eagerly_outside_functions instead.\n",
      "\n"
     ]
    },
    {
     "name": "stderr",
     "output_type": "stream",
     "text": [
      "WARNING:tensorflow:From c:\\Users\\Adhi Pradityo\\AppData\\Local\\Programs\\Python\\Python311\\Lib\\site-packages\\keras\\src\\engine\\base_layer_utils.py:384: The name tf.executing_eagerly_outside_functions is deprecated. Please use tf.compat.v1.executing_eagerly_outside_functions instead.\n",
      "\n"
     ]
    },
    {
     "name": "stdout",
     "output_type": "stream",
     "text": [
      "617/617 [==============================] - 494s 795ms/step - loss: 0.8052 - accuracy: 0.7779 - val_loss: 0.4425 - val_accuracy: 0.8040 - lr: 0.0010\n",
      "Epoch 2/50\n",
      "617/617 [==============================] - 454s 735ms/step - loss: 0.4253 - accuracy: 0.8195 - val_loss: 0.3936 - val_accuracy: 0.8354 - lr: 0.0010\n",
      "Epoch 3/50\n",
      "617/617 [==============================] - 458s 742ms/step - loss: 0.4015 - accuracy: 0.8344 - val_loss: 0.5633 - val_accuracy: 0.6956 - lr: 0.0010\n",
      "Epoch 4/50\n",
      "617/617 [==============================] - 445s 721ms/step - loss: 0.3959 - accuracy: 0.8393 - val_loss: 0.5386 - val_accuracy: 0.7831 - lr: 0.0010\n",
      "Epoch 5/50\n",
      "617/617 [==============================] - 440s 713ms/step - loss: 0.3823 - accuracy: 0.8452 - val_loss: 0.3833 - val_accuracy: 0.8490 - lr: 0.0010\n",
      "Epoch 6/50\n",
      "617/617 [==============================] - 437s 708ms/step - loss: 0.3804 - accuracy: 0.8491 - val_loss: 0.5525 - val_accuracy: 0.7946 - lr: 0.0010\n",
      "Epoch 7/50\n",
      "617/617 [==============================] - 438s 710ms/step - loss: 0.3572 - accuracy: 0.8574 - val_loss: 0.2926 - val_accuracy: 0.8807 - lr: 0.0010\n",
      "Epoch 8/50\n",
      "617/617 [==============================] - 441s 715ms/step - loss: 0.3588 - accuracy: 0.8620 - val_loss: 0.4007 - val_accuracy: 0.8452 - lr: 0.0010\n",
      "Epoch 9/50\n",
      "617/617 [==============================] - 439s 711ms/step - loss: 0.3405 - accuracy: 0.8691 - val_loss: 0.3104 - val_accuracy: 0.8760 - lr: 0.0010\n",
      "Epoch 10/50\n",
      "617/617 [==============================] - 434s 703ms/step - loss: 0.3331 - accuracy: 0.8723 - val_loss: 0.3551 - val_accuracy: 0.8559 - lr: 0.0010\n",
      "Epoch 11/50\n",
      "617/617 [==============================] - 443s 717ms/step - loss: 0.3230 - accuracy: 0.8756 - val_loss: 0.4429 - val_accuracy: 0.8072 - lr: 0.0010\n",
      "Epoch 12/50\n",
      "617/617 [==============================] - 437s 709ms/step - loss: 0.3162 - accuracy: 0.8768 - val_loss: 0.3966 - val_accuracy: 0.8397 - lr: 0.0010\n",
      "Epoch 13/50\n",
      "617/617 [==============================] - 437s 708ms/step - loss: 0.2700 - accuracy: 0.8977 - val_loss: 0.2725 - val_accuracy: 0.8959 - lr: 2.0000e-04\n",
      "Epoch 14/50\n",
      "617/617 [==============================] - 437s 708ms/step - loss: 0.2646 - accuracy: 0.8984 - val_loss: 0.2697 - val_accuracy: 0.8935 - lr: 2.0000e-04\n",
      "Epoch 15/50\n",
      "617/617 [==============================] - 436s 707ms/step - loss: 0.2573 - accuracy: 0.9016 - val_loss: 0.2800 - val_accuracy: 0.8835 - lr: 2.0000e-04\n",
      "Epoch 16/50\n",
      "617/617 [==============================] - 444s 720ms/step - loss: 0.2542 - accuracy: 0.8999 - val_loss: 0.2815 - val_accuracy: 0.8914 - lr: 2.0000e-04\n",
      "Epoch 17/50\n",
      "617/617 [==============================] - 439s 711ms/step - loss: 0.2451 - accuracy: 0.9062 - val_loss: 0.2885 - val_accuracy: 0.8929 - lr: 2.0000e-04\n",
      "Epoch 18/50\n",
      "617/617 [==============================] - 436s 706ms/step - loss: 0.2393 - accuracy: 0.9070 - val_loss: 0.3206 - val_accuracy: 0.8701 - lr: 2.0000e-04\n",
      "Epoch 19/50\n",
      "617/617 [==============================] - 435s 705ms/step - loss: 0.2393 - accuracy: 0.9070 - val_loss: 0.2818 - val_accuracy: 0.8890 - lr: 2.0000e-04\n",
      "Epoch 20/50\n",
      "617/617 [==============================] - 435s 705ms/step - loss: 0.2272 - accuracy: 0.9114 - val_loss: 0.2590 - val_accuracy: 0.8983 - lr: 4.0000e-05\n",
      "Epoch 21/50\n",
      "617/617 [==============================] - 440s 714ms/step - loss: 0.2261 - accuracy: 0.9120 - val_loss: 0.2540 - val_accuracy: 0.8983 - lr: 4.0000e-05\n",
      "Epoch 22/50\n",
      "617/617 [==============================] - 448s 726ms/step - loss: 0.2208 - accuracy: 0.9153 - val_loss: 0.2446 - val_accuracy: 0.9046 - lr: 4.0000e-05\n",
      "Epoch 23/50\n",
      "617/617 [==============================] - 437s 708ms/step - loss: 0.2196 - accuracy: 0.9166 - val_loss: 0.2450 - val_accuracy: 0.9071 - lr: 4.0000e-05\n",
      "Epoch 24/50\n",
      "617/617 [==============================] - 439s 711ms/step - loss: 0.2185 - accuracy: 0.9147 - val_loss: 0.2461 - val_accuracy: 0.9067 - lr: 4.0000e-05\n",
      "Epoch 25/50\n",
      "617/617 [==============================] - 438s 710ms/step - loss: 0.2177 - accuracy: 0.9162 - val_loss: 0.2529 - val_accuracy: 0.9012 - lr: 4.0000e-05\n",
      "Epoch 26/50\n",
      "617/617 [==============================] - 451s 731ms/step - loss: 0.2157 - accuracy: 0.9160 - val_loss: 0.2573 - val_accuracy: 0.9036 - lr: 4.0000e-05\n",
      "Epoch 27/50\n",
      "617/617 [==============================] - 442s 717ms/step - loss: 0.2189 - accuracy: 0.9117 - val_loss: 0.2436 - val_accuracy: 0.9071 - lr: 4.0000e-05\n",
      "Epoch 28/50\n",
      "617/617 [==============================] - 438s 710ms/step - loss: 0.2137 - accuracy: 0.9174 - val_loss: 0.2529 - val_accuracy: 0.9034 - lr: 4.0000e-05\n",
      "Epoch 29/50\n",
      "617/617 [==============================] - 440s 713ms/step - loss: 0.2155 - accuracy: 0.9186 - val_loss: 0.2544 - val_accuracy: 0.9012 - lr: 4.0000e-05\n",
      "Epoch 30/50\n",
      "617/617 [==============================] - 440s 712ms/step - loss: 0.2112 - accuracy: 0.9168 - val_loss: 0.2519 - val_accuracy: 0.9032 - lr: 4.0000e-05\n",
      "Epoch 31/50\n",
      "617/617 [==============================] - 437s 709ms/step - loss: 0.2134 - accuracy: 0.9157 - val_loss: 0.2455 - val_accuracy: 0.9002 - lr: 4.0000e-05\n",
      "Epoch 32/50\n",
      "617/617 [==============================] - 444s 720ms/step - loss: 0.2127 - accuracy: 0.9182 - val_loss: 0.2585 - val_accuracy: 0.9018 - lr: 4.0000e-05\n",
      "Epoch 33/50\n",
      "617/617 [==============================] - 440s 714ms/step - loss: 0.2058 - accuracy: 0.9195 - val_loss: 0.2482 - val_accuracy: 0.9040 - lr: 8.0000e-06\n",
      "Epoch 34/50\n",
      "617/617 [==============================] - 440s 712ms/step - loss: 0.2116 - accuracy: 0.9190 - val_loss: 0.2512 - val_accuracy: 0.9028 - lr: 8.0000e-06\n",
      "Epoch 35/50\n",
      "617/617 [==============================] - 439s 712ms/step - loss: 0.2097 - accuracy: 0.9203 - val_loss: 0.2497 - val_accuracy: 0.9034 - lr: 8.0000e-06\n",
      "Epoch 36/50\n",
      "617/617 [==============================] - 439s 711ms/step - loss: 0.2102 - accuracy: 0.9187 - val_loss: 0.2520 - val_accuracy: 0.9022 - lr: 8.0000e-06\n",
      "Epoch 37/50\n",
      "617/617 [==============================] - 440s 713ms/step - loss: 0.2064 - accuracy: 0.9209 - val_loss: 0.2550 - val_accuracy: 0.9016 - lr: 8.0000e-06\n"
     ]
    }
   ],
   "source": [
    "# Melatih model dengan callback\n",
    "epochs = 50\n",
    "\n",
    "history = model.fit(\n",
    "    train_generator,\n",
    "    steps_per_epoch=train_generator.samples // batch_size,\n",
    "    validation_data=validation_generator,\n",
    "    validation_steps=validation_generator.samples // batch_size,\n",
    "    epochs=epochs,\n",
    "    callbacks=[reduce_lr, early_stop]\n",
    ")"
   ]
  },
  {
   "cell_type": "code",
   "execution_count": 5,
   "metadata": {},
   "outputs": [
    {
     "name": "stdout",
     "output_type": "stream",
     "text": [
      "155/155 [==============================] - 44s 284ms/step - loss: 0.2407 - accuracy: 0.9093\n",
      "Validation Accuracy: 90.93%\n"
     ]
    }
   ],
   "source": [
    "# Evaluasi model\n",
    "loss, accuracy = model.evaluate(validation_generator)\n",
    "print(f'Validation Accuracy: {accuracy*100:.2f}%')"
   ]
  },
  {
   "cell_type": "code",
   "execution_count": 6,
   "metadata": {},
   "outputs": [],
   "source": [
    "# import tensorflow as tf\n",
    "# import numpy as np\n",
    "# from tensorflow.keras.preprocessing import image\n",
    "\n",
    "# # Fungsi untuk prediksi\n",
    "# def predict_waste(image_path):\n",
    "#     img = image.load_img(image_path, target_size=(150, 150))\n",
    "#     img_array = image.img_to_array(img)\n",
    "#     img_array = np.expand_dims(img_array, axis=0) / 255.0\n",
    "    \n",
    "#     prediction = model.predict(img_array)\n",
    "#     if prediction[0] > 0.5:\n",
    "#         return 'Recyclable'\n",
    "#     else:\n",
    "#         return 'Organic'\n",
    "\n",
    "# # Tes\n",
    "# print(predict_waste('C:/Users/Adhi Pradityo/OneDrive/Documents/trashify/dataset/organic/organic_000077_photo.jpg'))\n"
   ]
  },
  {
   "cell_type": "code",
   "execution_count": 7,
   "metadata": {},
   "outputs": [
    {
     "name": "stderr",
     "output_type": "stream",
     "text": [
      "c:\\Users\\Adhi Pradityo\\AppData\\Local\\Programs\\Python\\Python311\\Lib\\site-packages\\keras\\src\\engine\\training.py:3103: UserWarning: You are saving your model as an HDF5 file via `model.save()`. This file format is considered legacy. We recommend using instead the native Keras format, e.g. `model.save('my_model.keras')`.\n",
      "  saving_api.save_model(\n"
     ]
    }
   ],
   "source": [
    "# Menyimpan model\n",
    "model.save('trashify_model.h5')"
   ]
  }
 ],
 "metadata": {
  "kernelspec": {
   "display_name": "Python 3",
   "language": "python",
   "name": "python3"
  },
  "language_info": {
   "codemirror_mode": {
    "name": "ipython",
    "version": 3
   },
   "file_extension": ".py",
   "mimetype": "text/x-python",
   "name": "python",
   "nbconvert_exporter": "python",
   "pygments_lexer": "ipython3",
   "version": "3.11.2"
  }
 },
 "nbformat": 4,
 "nbformat_minor": 2
}
